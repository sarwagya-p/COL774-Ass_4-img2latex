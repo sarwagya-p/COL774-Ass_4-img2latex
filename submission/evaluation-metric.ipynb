{
 "cells": [
  {
   "cell_type": "code",
   "execution_count": null,
   "id": "f7400e06",
   "metadata": {
    "_cell_guid": "b1076dfc-b9ad-4769-8c92-a6c4dae69d19",
    "_uuid": "8f2839f25d086af736a60e9eeb907d3b93b6e0e5",
    "execution": {
     "iopub.execute_input": "2023-11-01T16:50:09.066101Z",
     "iopub.status.busy": "2023-11-01T16:50:09.065356Z",
     "iopub.status.idle": "2023-11-01T16:50:11.166235Z",
     "shell.execute_reply": "2023-11-01T16:50:11.164541Z"
    },
    "papermill": {
     "duration": 2.108331,
     "end_time": "2023-11-01T16:50:11.169131",
     "exception": false,
     "start_time": "2023-11-01T16:50:09.060800",
     "status": "completed"
    },
    "tags": []
   },
   "outputs": [],
   "source": [
    "import nltk\n",
    "from nltk.translate.bleu_score import sentence_bleu, SmoothingFunction\n",
    "\n",
    "def get_scores(ops,gts):\n",
    "    sc = 0\n",
    "    for k in range(len(ops)):\n",
    "        try:\n",
    "            cscore = sentence_bleu(gts[k], ops[k], smoothing_function=SmoothingFunction().method4)\n",
    "            print(gts[k])\n",
    "            print(ops[k])\n",
    "        except:\n",
    "            cscore = 0\n",
    "        sc += cscore\n",
    "\n",
    "    print(\"Bleu: \", sc/len(ops))"
   ]
  },
  {
   "cell_type": "code",
   "execution_count": null,
   "metadata": {},
   "outputs": [],
   "source": [
    "from EncoderDecoder import EncoderDecoder, EncoderCNN, DecoderRNN\n",
    "from data_utils import Img2LatexDataset, load_img\n",
    "from train_model import *\n",
    "from torch.utils.data import DataLoader\n",
    "\n",
    "model = load_model(\"./models/model_4ep.pt\")\n",
    "model.eval()\n",
    "\n",
    "dataset = Img2LatexDataset(\"../data/SyntheticData/images/\", \"../data/SyntheticData/test.csv\", tokens=model.decoder.vocab, \n",
    "                           token_to_idx=model.decoder.vocab_dict)\n",
    "loader = DataLoader(dataset, batch_size=1, shuffle=True)\n",
    "\n",
    "batch = next(iter(loader))\n",
    "print(f\"Images shape: {batch[0].shape}, formulas shape: {batch[1].shape}\")"
   ]
  },
  {
   "cell_type": "code",
   "execution_count": null,
   "metadata": {},
   "outputs": [],
   "source": [
    "def label_to_string(label):\n",
    "    token_list = []\n",
    "    for tok in label:\n",
    "        if tok == model.decoder.vocab_dict[\"<sos>\"] or tok == model.decoder.vocab_dict[\"<pad>\"]:\n",
    "            continue\n",
    "        if tok == model.decoder.vocab_dict[\"<eos>\"] or tok == model.decoder.vocab_dict[\"<pad>\"]:\n",
    "            break\n",
    "        token_list.append(model.decoder.vocab[tok])\n",
    "\n",
    "    return \" \".join(token_list)\n",
    "\n",
    "overall = 0\n",
    "\n",
    "counted = 1\n",
    "\n",
    "for batch in loader:\n",
    "    imgs, labels = batch\n",
    "    preds = []\n",
    "\n",
    "    for i in range(len(labels)):\n",
    "        preds.append(\" \".join(model(imgs[i])))  \n",
    "    counted += 1\n",
    "        \n",
    "    ground_truths = [label_to_string(labels[i]) for i in range(len(labels))]\n",
    "    bleu = get_scores(preds, ground_truths)\n",
    "\n",
    "    if counted % 5 == 0:\n",
    "        print(\"Macro Bleu : \", overall/counted)"
   ]
  },
  {
   "cell_type": "code",
   "execution_count": null,
   "metadata": {},
   "outputs": [],
   "source": [
    "import pandas as pd\n",
    "import os\n",
    "\n",
    "def read_and_pred(img_path, model):\n",
    "    print(f\"New func\")\n",
    "    img = load_img(img_path)\n",
    "    if img.shape[0] == 1:\n",
    "        img = img.repeat(3, axis=0)\n",
    "    print(img.shape)\n",
    "        \n",
    "    pred = model(img)\n",
    "    print(pred)\n",
    "    return pred\n",
    "\n",
    "model = load_model(\"./models/model_4ep.pt\")\n",
    "dataset_dir = \"../data/sample_sub.csv\"\n",
    "imgs_dir = \"../data/HandwrittenData/images/test/\"\n",
    "preds_df = pd.read_csv(dataset_dir)\n",
    "\n",
    "preds_df[\"formula\"] = preds_df[\"image\"].apply(lambda x: read_and_pred(os.path.join(imgs_dir, x), model))\n",
    "preds_df.to_csv(dataset_dir)"
   ]
  },
  {
   "cell_type": "code",
   "execution_count": null,
   "metadata": {},
   "outputs": [],
   "source": []
  }
 ],
 "metadata": {
  "kernelspec": {
   "display_name": "Python 3",
   "language": "python",
   "name": "python3"
  },
  "language_info": {
   "codemirror_mode": {
    "name": "ipython",
    "version": 3
   },
   "file_extension": ".py",
   "mimetype": "text/x-python",
   "name": "python",
   "nbconvert_exporter": "python",
   "pygments_lexer": "ipython3",
   "version": "3.11.5"
  },
  "papermill": {
   "default_parameters": {},
   "duration": 6.465098,
   "end_time": "2023-11-01T16:50:11.714543",
   "environment_variables": {},
   "exception": null,
   "input_path": "__notebook__.ipynb",
   "output_path": "__notebook__.ipynb",
   "parameters": {},
   "start_time": "2023-11-01T16:50:05.249445",
   "version": "2.4.0"
  }
 },
 "nbformat": 4,
 "nbformat_minor": 5
}
